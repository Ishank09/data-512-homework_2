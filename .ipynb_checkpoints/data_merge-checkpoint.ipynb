{
 "cells": [
  {
   "cell_type": "markdown",
   "id": "39238eee",
   "metadata": {},
   "source": [
    "\n",
    "Explanation\n",
    "In this notebook, we aim to combine data from the 'ores_predictions.csv' file, containing predicted ORES scores for various Wikipedia articles, with the 'us_cities_by_state_SEPT.2023.csv' file, which provides information about different cities in the United States.\n",
    "\n",
    "Objective\n",
    "The purpose of this data merging exercise is to acquire additional context for the Wikipedia articles. By obtaining the 'State' information from the 'us_cities_by_state_SEPT.2023.csv' file, we aim to enrich the analysis of the ORES predictions with the geographical location of the corresponding Wikipedia articles."
   ]
  },
  {
   "cell_type": "code",
   "execution_count": null,
   "id": "54617457",
   "metadata": {},
   "outputs": [],
   "source": [
    "# Import necessary libraries\n",
    "import pandas as pd\n",
    "\n"
   ]
  },
  {
   "cell_type": "code",
   "execution_count": null,
   "id": "42ca009f",
   "metadata": {},
   "outputs": [],
   "source": [
    "# Read the datasets\n",
    "ores_df = pd.read_csv('../data/ores_predictions.csv')\n",
    "cities_df = pd.read_csv('../data/us_cities_by_state_SEPT.2023.csv')\n",
    "\n"
   ]
  },
  {
   "cell_type": "code",
   "execution_count": null,
   "id": "5df23e49",
   "metadata": {},
   "outputs": [],
   "source": [
    "# Merge the dataframes\n",
    "merged_df = pd.merge(ores_df, cities_df, left_on='Title', right_on='page_title', how='inner')\n",
    "\n",
    "\n"
   ]
  },
  {
   "cell_type": "code",
   "execution_count": null,
   "id": "ab360b60",
   "metadata": {},
   "outputs": [],
   "source": [
    "# Extract the required columns\n",
    "result_df = merged_df[['Title', 'Last_Revision_ID', 'Prediction', 'State']]\n",
    "\n"
   ]
  },
  {
   "cell_type": "code",
   "execution_count": null,
   "id": "60fd6f37",
   "metadata": {},
   "outputs": [],
   "source": [
    "# Store the resulting dataframe in a CSV file\n",
    "result_df.to_csv('merged_data.csv', index=False)\n",
    "\n"
   ]
  },
  {
   "cell_type": "code",
   "execution_count": null,
   "id": "f7528c42",
   "metadata": {},
   "outputs": [],
   "source": [
    "# Display the first few rows of the resulting dataframe\n",
    "result_df.head()"
   ]
  }
 ],
 "metadata": {
  "kernelspec": {
   "display_name": "Python 3 (ipykernel)",
   "language": "python",
   "name": "python3"
  },
  "language_info": {
   "codemirror_mode": {
    "name": "ipython",
    "version": 3
   },
   "file_extension": ".py",
   "mimetype": "text/x-python",
   "name": "python",
   "nbconvert_exporter": "python",
   "pygments_lexer": "ipython3",
   "version": "3.9.0rc2"
  }
 },
 "nbformat": 4,
 "nbformat_minor": 5
}
