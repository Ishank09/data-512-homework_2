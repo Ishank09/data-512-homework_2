{
 "cells": [
  {
   "cell_type": "code",
   "execution_count": 37,
   "id": "b3f79051",
   "metadata": {},
   "outputs": [],
   "source": [
    "import pandas as pd\n",
    "import numpy as np"
   ]
  },
  {
   "cell_type": "markdown",
   "id": "fce2ab43",
   "metadata": {},
   "source": [
    "## Analysis\n",
    "### 4a) Total Articles per Population (Articles per Capita) by State\n",
    "In this section, we calculate the total number of Wikipedia articles per capita for each state.\n",
    "\n",
    "First, we read the CSV file containing the necessary data:"
   ]
  },
  {
   "cell_type": "code",
   "execution_count": 38,
   "id": "1db118a4",
   "metadata": {},
   "outputs": [
    {
     "data": {
      "text/html": [
       "<div>\n",
       "<style scoped>\n",
       "    .dataframe tbody tr th:only-of-type {\n",
       "        vertical-align: middle;\n",
       "    }\n",
       "\n",
       "    .dataframe tbody tr th {\n",
       "        vertical-align: top;\n",
       "    }\n",
       "\n",
       "    .dataframe thead th {\n",
       "        text-align: right;\n",
       "    }\n",
       "</style>\n",
       "<table border=\"1\" class=\"dataframe\">\n",
       "  <thead>\n",
       "    <tr style=\"text-align: right;\">\n",
       "      <th></th>\n",
       "      <th>state</th>\n",
       "      <th>regional_division</th>\n",
       "      <th>article_title</th>\n",
       "      <th>revision_id</th>\n",
       "      <th>article_quality</th>\n",
       "      <th>population</th>\n",
       "    </tr>\n",
       "  </thead>\n",
       "  <tbody>\n",
       "    <tr>\n",
       "      <th>0</th>\n",
       "      <td>alabama</td>\n",
       "      <td>East South Central</td>\n",
       "      <td>Abbeville, Alabama</td>\n",
       "      <td>1171163550</td>\n",
       "      <td>C</td>\n",
       "      <td>5074296.0</td>\n",
       "    </tr>\n",
       "    <tr>\n",
       "      <th>1</th>\n",
       "      <td>alabama</td>\n",
       "      <td>East South Central</td>\n",
       "      <td>Adamsville, Alabama</td>\n",
       "      <td>1177621427</td>\n",
       "      <td>C</td>\n",
       "      <td>5074296.0</td>\n",
       "    </tr>\n",
       "    <tr>\n",
       "      <th>2</th>\n",
       "      <td>alabama</td>\n",
       "      <td>East South Central</td>\n",
       "      <td>Addison, Alabama</td>\n",
       "      <td>1168359898</td>\n",
       "      <td>C</td>\n",
       "      <td>5074296.0</td>\n",
       "    </tr>\n",
       "    <tr>\n",
       "      <th>3</th>\n",
       "      <td>alabama</td>\n",
       "      <td>East South Central</td>\n",
       "      <td>Akron, Alabama</td>\n",
       "      <td>1165909508</td>\n",
       "      <td>GA</td>\n",
       "      <td>5074296.0</td>\n",
       "    </tr>\n",
       "    <tr>\n",
       "      <th>4</th>\n",
       "      <td>alabama</td>\n",
       "      <td>East South Central</td>\n",
       "      <td>Alabaster, Alabama</td>\n",
       "      <td>1179139816</td>\n",
       "      <td>C</td>\n",
       "      <td>5074296.0</td>\n",
       "    </tr>\n",
       "    <tr>\n",
       "      <th>...</th>\n",
       "      <td>...</td>\n",
       "      <td>...</td>\n",
       "      <td>...</td>\n",
       "      <td>...</td>\n",
       "      <td>...</td>\n",
       "      <td>...</td>\n",
       "    </tr>\n",
       "    <tr>\n",
       "      <th>21503</th>\n",
       "      <td>wyoming</td>\n",
       "      <td>Mountain</td>\n",
       "      <td>Wright, Wyoming</td>\n",
       "      <td>1166334449</td>\n",
       "      <td>GA</td>\n",
       "      <td>581381.0</td>\n",
       "    </tr>\n",
       "    <tr>\n",
       "      <th>21504</th>\n",
       "      <td>wyoming</td>\n",
       "      <td>Mountain</td>\n",
       "      <td>Yoder, Wyoming</td>\n",
       "      <td>1171182284</td>\n",
       "      <td>C</td>\n",
       "      <td>581381.0</td>\n",
       "    </tr>\n",
       "    <tr>\n",
       "      <th>21505</th>\n",
       "      <td>missouri</td>\n",
       "      <td>West North Central</td>\n",
       "      <td>Jennings, Missouri</td>\n",
       "      <td>1165751175</td>\n",
       "      <td>C</td>\n",
       "      <td>6177957.0</td>\n",
       "    </tr>\n",
       "    <tr>\n",
       "      <th>21506</th>\n",
       "      <td>pennsylvania</td>\n",
       "      <td>Middle Atlantic</td>\n",
       "      <td>Jefferson Township, Greene County, Pennsylvania</td>\n",
       "      <td>1171582274</td>\n",
       "      <td>C</td>\n",
       "      <td>12972008.0</td>\n",
       "    </tr>\n",
       "    <tr>\n",
       "      <th>21507</th>\n",
       "      <td>wisconsin</td>\n",
       "      <td>East North Central</td>\n",
       "      <td>Alma, Wisconsin</td>\n",
       "      <td>1173207996</td>\n",
       "      <td>C</td>\n",
       "      <td>5892539.0</td>\n",
       "    </tr>\n",
       "  </tbody>\n",
       "</table>\n",
       "<p>21508 rows × 6 columns</p>\n",
       "</div>"
      ],
      "text/plain": [
       "              state   regional_division   \n",
       "0           alabama  East South Central  \\\n",
       "1           alabama  East South Central   \n",
       "2           alabama  East South Central   \n",
       "3           alabama  East South Central   \n",
       "4           alabama  East South Central   \n",
       "...             ...                 ...   \n",
       "21503       wyoming            Mountain   \n",
       "21504       wyoming            Mountain   \n",
       "21505      missouri  West North Central   \n",
       "21506  pennsylvania     Middle Atlantic   \n",
       "21507     wisconsin  East North Central   \n",
       "\n",
       "                                         article_title  revision_id   \n",
       "0                                   Abbeville, Alabama   1171163550  \\\n",
       "1                                  Adamsville, Alabama   1177621427   \n",
       "2                                     Addison, Alabama   1168359898   \n",
       "3                                       Akron, Alabama   1165909508   \n",
       "4                                   Alabaster, Alabama   1179139816   \n",
       "...                                                ...          ...   \n",
       "21503                                  Wright, Wyoming   1166334449   \n",
       "21504                                   Yoder, Wyoming   1171182284   \n",
       "21505                               Jennings, Missouri   1165751175   \n",
       "21506  Jefferson Township, Greene County, Pennsylvania   1171582274   \n",
       "21507                                  Alma, Wisconsin   1173207996   \n",
       "\n",
       "      article_quality  population  \n",
       "0                   C   5074296.0  \n",
       "1                   C   5074296.0  \n",
       "2                   C   5074296.0  \n",
       "3                  GA   5074296.0  \n",
       "4                   C   5074296.0  \n",
       "...               ...         ...  \n",
       "21503              GA    581381.0  \n",
       "21504               C    581381.0  \n",
       "21505               C   6177957.0  \n",
       "21506               C  12972008.0  \n",
       "21507               C   5892539.0  \n",
       "\n",
       "[21508 rows x 6 columns]"
      ]
     },
     "execution_count": 38,
     "metadata": {},
     "output_type": "execute_result"
    }
   ],
   "source": [
    "# Reading csv\n",
    "df_consolidated = pd.read_csv('../data/wp_scored_city_articles_by_state.csv')\n",
    "df_consolidated"
   ]
  },
  {
   "cell_type": "markdown",
   "id": "f3fd2630",
   "metadata": {},
   "source": [
    "Next, we perform various data processing tasks to calculate the articles per capita for each state. This includes handling duplicates, grouping data, and calculating the articles per capita:\n",
    "\n"
   ]
  },
  {
   "cell_type": "code",
   "execution_count": 39,
   "id": "1814afe2",
   "metadata": {},
   "outputs": [
    {
     "name": "stdout",
     "output_type": "stream",
     "text": [
      "On a state level, the dataframe returns the below number of rows\n",
      "37\n"
     ]
    },
    {
     "data": {
      "text/html": [
       "<div>\n",
       "<style scoped>\n",
       "    .dataframe tbody tr th:only-of-type {\n",
       "        vertical-align: middle;\n",
       "    }\n",
       "\n",
       "    .dataframe tbody tr th {\n",
       "        vertical-align: top;\n",
       "    }\n",
       "\n",
       "    .dataframe thead th {\n",
       "        text-align: right;\n",
       "    }\n",
       "</style>\n",
       "<table border=\"1\" class=\"dataframe\">\n",
       "  <thead>\n",
       "    <tr style=\"text-align: right;\">\n",
       "      <th></th>\n",
       "      <th>state</th>\n",
       "      <th>population</th>\n",
       "      <th>article_count</th>\n",
       "      <th>articles_per_capita</th>\n",
       "    </tr>\n",
       "  </thead>\n",
       "  <tbody>\n",
       "    <tr>\n",
       "      <th>0</th>\n",
       "      <td>alabama</td>\n",
       "      <td>5074296.0</td>\n",
       "      <td>461</td>\n",
       "      <td>0.000091</td>\n",
       "    </tr>\n",
       "    <tr>\n",
       "      <th>1</th>\n",
       "      <td>alaska</td>\n",
       "      <td>733583.0</td>\n",
       "      <td>148</td>\n",
       "      <td>0.000202</td>\n",
       "    </tr>\n",
       "    <tr>\n",
       "      <th>2</th>\n",
       "      <td>arizona</td>\n",
       "      <td>7359197.0</td>\n",
       "      <td>91</td>\n",
       "      <td>0.000012</td>\n",
       "    </tr>\n",
       "    <tr>\n",
       "      <th>3</th>\n",
       "      <td>arkansas</td>\n",
       "      <td>3045637.0</td>\n",
       "      <td>500</td>\n",
       "      <td>0.000164</td>\n",
       "    </tr>\n",
       "    <tr>\n",
       "      <th>4</th>\n",
       "      <td>california</td>\n",
       "      <td>39029342.0</td>\n",
       "      <td>482</td>\n",
       "      <td>0.000012</td>\n",
       "    </tr>\n",
       "  </tbody>\n",
       "</table>\n",
       "</div>"
      ],
      "text/plain": [
       "        state  population  article_count  articles_per_capita\n",
       "0     alabama   5074296.0            461             0.000091\n",
       "1      alaska    733583.0            148             0.000202\n",
       "2     arizona   7359197.0             91             0.000012\n",
       "3    arkansas   3045637.0            500             0.000164\n",
       "4  california  39029342.0            482             0.000012"
      ]
     },
     "execution_count": 39,
     "metadata": {},
     "output_type": "execute_result"
    }
   ],
   "source": [
    "# Removing the duplicates for states, \n",
    "# group the states and aggregate population per regional division by counting number of articles, \n",
    "# calculate article_per_capita\n",
    "df1 = df_consolidated[~df_consolidated.duplicated(subset=['state', 'regional_division'], keep = 'last')]\n",
    "\n",
    "# Calculating the population of each state\n",
    "state_pop = df1[['state', 'population']].groupby('state').sum().reset_index()\n",
    "state_article_cnt = df_consolidated[['state', 'article_title']].groupby('state').count().reset_index()\n",
    "total_articles_state = state_pop.merge(state_article_cnt, on='state')\n",
    "total_articles_state.columns=['state', 'population', 'article_count']\n",
    "total_articles_state['article_count'] = total_articles_state['article_count'].astype('int')\n",
    "total_articles_state['articles_per_capita'] = total_articles_state['article_count'] / (total_articles_state['population'])\n",
    "total_articles_state['articles_per_capita'] = total_articles_state['articles_per_capita'].astype('float')\n",
    "\n",
    "# handling for conditions where population is zero (6 states)\n",
    "total_articles_state = total_articles_state[total_articles_state['articles_per_capita'] != np.inf] \n",
    "print('On a state level, the dataframe returns the below number of rows')\n",
    "print(len(total_articles_state['state'].unique()))\n",
    "total_articles_state.reset_index(inplace=True)\n",
    "total_articles_state = total_articles_state.drop('index', axis = 1)\n",
    "total_articles_state.head()"
   ]
  },
  {
   "cell_type": "markdown",
   "id": "fc9c0f9a",
   "metadata": {},
   "source": [
    "We also analyze the data by regional divisions to understand the distribution at a broader level:\n"
   ]
  },
  {
   "cell_type": "code",
   "execution_count": 40,
   "id": "0434b359",
   "metadata": {},
   "outputs": [
    {
     "data": {
      "text/html": [
       "<div>\n",
       "<style scoped>\n",
       "    .dataframe tbody tr th:only-of-type {\n",
       "        vertical-align: middle;\n",
       "    }\n",
       "\n",
       "    .dataframe tbody tr th {\n",
       "        vertical-align: top;\n",
       "    }\n",
       "\n",
       "    .dataframe thead th {\n",
       "        text-align: right;\n",
       "    }\n",
       "</style>\n",
       "<table border=\"1\" class=\"dataframe\">\n",
       "  <thead>\n",
       "    <tr style=\"text-align: right;\">\n",
       "      <th></th>\n",
       "      <th>regional_division</th>\n",
       "      <th>population</th>\n",
       "    </tr>\n",
       "  </thead>\n",
       "  <tbody>\n",
       "    <tr>\n",
       "      <th>0</th>\n",
       "      <td>East North Central</td>\n",
       "      <td>47097779.0</td>\n",
       "    </tr>\n",
       "    <tr>\n",
       "      <th>1</th>\n",
       "      <td>East South Central</td>\n",
       "      <td>19578002.0</td>\n",
       "    </tr>\n",
       "    <tr>\n",
       "      <th>2</th>\n",
       "      <td>Middle Atlantic</td>\n",
       "      <td>12972008.0</td>\n",
       "    </tr>\n",
       "    <tr>\n",
       "      <th>3</th>\n",
       "      <td>Mountain</td>\n",
       "      <td>23400976.0</td>\n",
       "    </tr>\n",
       "    <tr>\n",
       "      <th>4</th>\n",
       "      <td>New England</td>\n",
       "      <td>9014378.0</td>\n",
       "    </tr>\n",
       "    <tr>\n",
       "      <th>5</th>\n",
       "      <td>Pacific</td>\n",
       "      <td>53229044.0</td>\n",
       "    </tr>\n",
       "    <tr>\n",
       "      <th>6</th>\n",
       "      <td>South Atlantic</td>\n",
       "      <td>38111498.0</td>\n",
       "    </tr>\n",
       "    <tr>\n",
       "      <th>7</th>\n",
       "      <td>West North Central</td>\n",
       "      <td>18032808.0</td>\n",
       "    </tr>\n",
       "    <tr>\n",
       "      <th>8</th>\n",
       "      <td>West South Central</td>\n",
       "      <td>41685250.0</td>\n",
       "    </tr>\n",
       "  </tbody>\n",
       "</table>\n",
       "</div>"
      ],
      "text/plain": [
       "    regional_division  population\n",
       "0  East North Central  47097779.0\n",
       "1  East South Central  19578002.0\n",
       "2     Middle Atlantic  12972008.0\n",
       "3            Mountain  23400976.0\n",
       "4         New England   9014378.0\n",
       "5             Pacific  53229044.0\n",
       "6      South Atlantic  38111498.0\n",
       "7  West North Central  18032808.0\n",
       "8  West South Central  41685250.0"
      ]
     },
     "execution_count": 40,
     "metadata": {},
     "output_type": "execute_result"
    }
   ],
   "source": [
    "\n",
    "division_pop = df_consolidated.drop_duplicates(subset=['state', 'population']).groupby('regional_division')['population'].sum().to_frame().reset_index()\n",
    "\n",
    "df_pop_division = division_pop\n",
    "# Resetting the index to make 'regional_division' a column again\n",
    "# division_pop.reset_index(inplace=True)\n",
    "division_pop"
   ]
  },
  {
   "cell_type": "code",
   "execution_count": 41,
   "id": "cdb6fc6a",
   "metadata": {},
   "outputs": [
    {
     "name": "stdout",
     "output_type": "stream",
     "text": [
      "On a regional division level, the dataframe returns the below number of rows\n",
      "9\n"
     ]
    },
    {
     "data": {
      "text/html": [
       "<div>\n",
       "<style scoped>\n",
       "    .dataframe tbody tr th:only-of-type {\n",
       "        vertical-align: middle;\n",
       "    }\n",
       "\n",
       "    .dataframe tbody tr th {\n",
       "        vertical-align: top;\n",
       "    }\n",
       "\n",
       "    .dataframe thead th {\n",
       "        text-align: right;\n",
       "    }\n",
       "</style>\n",
       "<table border=\"1\" class=\"dataframe\">\n",
       "  <thead>\n",
       "    <tr style=\"text-align: right;\">\n",
       "      <th></th>\n",
       "      <th>regional_division</th>\n",
       "      <th>population</th>\n",
       "      <th>article_count</th>\n",
       "      <th>articles_per_capita</th>\n",
       "    </tr>\n",
       "  </thead>\n",
       "  <tbody>\n",
       "    <tr>\n",
       "      <th>0</th>\n",
       "      <td>East North Central</td>\n",
       "      <td>47097779.0</td>\n",
       "      <td>4753</td>\n",
       "      <td>0.000101</td>\n",
       "    </tr>\n",
       "    <tr>\n",
       "      <th>1</th>\n",
       "      <td>East South Central</td>\n",
       "      <td>19578002.0</td>\n",
       "      <td>1527</td>\n",
       "      <td>0.000078</td>\n",
       "    </tr>\n",
       "    <tr>\n",
       "      <th>2</th>\n",
       "      <td>Middle Atlantic</td>\n",
       "      <td>12972008.0</td>\n",
       "      <td>2556</td>\n",
       "      <td>0.000197</td>\n",
       "    </tr>\n",
       "    <tr>\n",
       "      <th>3</th>\n",
       "      <td>Mountain</td>\n",
       "      <td>23400976.0</td>\n",
       "      <td>1081</td>\n",
       "      <td>0.000046</td>\n",
       "    </tr>\n",
       "    <tr>\n",
       "      <th>4</th>\n",
       "      <td>New England</td>\n",
       "      <td>9014378.0</td>\n",
       "      <td>1163</td>\n",
       "      <td>0.000129</td>\n",
       "    </tr>\n",
       "  </tbody>\n",
       "</table>\n",
       "</div>"
      ],
      "text/plain": [
       "    regional_division  population  article_count  articles_per_capita\n",
       "0  East North Central  47097779.0           4753             0.000101\n",
       "1  East South Central  19578002.0           1527             0.000078\n",
       "2     Middle Atlantic  12972008.0           2556             0.000197\n",
       "3            Mountain  23400976.0           1081             0.000046\n",
       "4         New England   9014378.0           1163             0.000129"
      ]
     },
     "execution_count": 41,
     "metadata": {},
     "output_type": "execute_result"
    }
   ],
   "source": [
    "# Repeating the same as above but grouping by regional division in this case\n",
    "# Calculating the population of each state\n",
    "\n",
    "\n",
    "\n",
    "division_article_cnt = df_consolidated[['regional_division', 'article_title']].groupby('regional_division').count().reset_index()\n",
    "total_articles_division = division_pop.merge(division_article_cnt, on='regional_division')\n",
    "total_articles_division.columns=['regional_division', 'population', 'article_count']\n",
    "total_articles_division['articles_per_capita'] = total_articles_division['article_count'] / (total_articles_division['population'])\n",
    " \n",
    "print('On a regional division level, the dataframe returns the below number of rows')\n",
    "print(len(total_articles_division['regional_division'].unique()))\n",
    "total_articles_division.head()"
   ]
  },
  {
   "cell_type": "markdown",
   "id": "996ba443",
   "metadata": {},
   "source": [
    "4b) High Quality Articles per Population\n",
    "This section focuses on calculating the number of high-quality articles per capita for each state. The dataset is filtered to include only articles tagged with \"FA\" (Featured Article) or \"GA\" (Good Article) in the \"article_quality\" column. Similar to 4a, the analysis is conducted at both the state and regional division levels."
   ]
  },
  {
   "cell_type": "code",
   "execution_count": 42,
   "id": "4948c2d3",
   "metadata": {},
   "outputs": [
    {
     "name": "stdout",
     "output_type": "stream",
     "text": [
      "On a state level, the high quality dataframe returns the below number of rows\n",
      "37\n"
     ]
    },
    {
     "data": {
      "text/html": [
       "<div>\n",
       "<style scoped>\n",
       "    .dataframe tbody tr th:only-of-type {\n",
       "        vertical-align: middle;\n",
       "    }\n",
       "\n",
       "    .dataframe tbody tr th {\n",
       "        vertical-align: top;\n",
       "    }\n",
       "\n",
       "    .dataframe thead th {\n",
       "        text-align: right;\n",
       "    }\n",
       "</style>\n",
       "<table border=\"1\" class=\"dataframe\">\n",
       "  <thead>\n",
       "    <tr style=\"text-align: right;\">\n",
       "      <th></th>\n",
       "      <th>state</th>\n",
       "      <th>population</th>\n",
       "      <th>article_count</th>\n",
       "      <th>articles_per_capita</th>\n",
       "    </tr>\n",
       "  </thead>\n",
       "  <tbody>\n",
       "    <tr>\n",
       "      <th>0</th>\n",
       "      <td>alabama</td>\n",
       "      <td>5074296.0</td>\n",
       "      <td>53</td>\n",
       "      <td>0.000010</td>\n",
       "    </tr>\n",
       "    <tr>\n",
       "      <th>1</th>\n",
       "      <td>alaska</td>\n",
       "      <td>733583.0</td>\n",
       "      <td>31</td>\n",
       "      <td>0.000042</td>\n",
       "    </tr>\n",
       "    <tr>\n",
       "      <th>2</th>\n",
       "      <td>arizona</td>\n",
       "      <td>7359197.0</td>\n",
       "      <td>24</td>\n",
       "      <td>0.000003</td>\n",
       "    </tr>\n",
       "    <tr>\n",
       "      <th>3</th>\n",
       "      <td>arkansas</td>\n",
       "      <td>3045637.0</td>\n",
       "      <td>72</td>\n",
       "      <td>0.000024</td>\n",
       "    </tr>\n",
       "    <tr>\n",
       "      <th>4</th>\n",
       "      <td>california</td>\n",
       "      <td>39029342.0</td>\n",
       "      <td>173</td>\n",
       "      <td>0.000004</td>\n",
       "    </tr>\n",
       "  </tbody>\n",
       "</table>\n",
       "</div>"
      ],
      "text/plain": [
       "        state  population  article_count  articles_per_capita\n",
       "0     alabama   5074296.0             53             0.000010\n",
       "1      alaska    733583.0             31             0.000042\n",
       "2     arizona   7359197.0             24             0.000003\n",
       "3    arkansas   3045637.0             72             0.000024\n",
       "4  california  39029342.0            173             0.000004"
      ]
     },
     "execution_count": 42,
     "metadata": {},
     "output_type": "execute_result"
    }
   ],
   "source": [
    "# Filtering the ahttp://localhost:8888/notebooks/Downloads/data%20512%20hw2.ipynb#By-Staterticle based on the artcile_quality attribute\n",
    "# Calculation for article_count and article_per_capita done the same as above i.e., group by state\n",
    "\n",
    "df3 = df_consolidated[~df_consolidated.duplicated(subset=['state', 'regional_division'], keep = 'last')]\n",
    "\n",
    "state_pop = df3[['state', 'population']].groupby('state').sum().reset_index()\n",
    "hq_state_df = df_consolidated[(df_consolidated['article_quality'] == \n",
    "                                 'FA') | (df_consolidated['article_quality'] == 'GA')]\n",
    "\n",
    "state_count = hq_state_df[['state', 'article_title']].groupby('state').count().reset_index()\n",
    "hq_state_df = state_pop.merge(state_count, on='state')\n",
    "hq_state_df.columns=['state', 'population', 'article_count']\n",
    "hq_state_df['article_count'] = hq_state_df['article_count'].astype('int')\n",
    "hq_state_df['articles_per_capita'] = hq_state_df['article_count'] / (hq_state_df['population'])\n",
    "hq_state_df['articles_per_capita'] = hq_state_df['articles_per_capita'].astype('float')\n",
    "\n",
    "# Need to exclude conditions where the population of a state is zero\n",
    "hq_state_df = hq_state_df[hq_state_df['articles_per_capita'] != np.inf]\n",
    "hq_state_df.reset_index(inplace=True)\n",
    "hq_state_df.drop(columns=['index'], inplace=True)\n",
    "\n",
    "print('On a state level, the high quality dataframe returns the below number of rows')\n",
    "print(len(hq_state_df['state'].unique()))\n",
    "hq_state_df.head()"
   ]
  },
  {
   "cell_type": "markdown",
   "id": "658f175b",
   "metadata": {},
   "source": [
    "By regional division"
   ]
  },
  {
   "cell_type": "code",
   "execution_count": 43,
   "id": "709d6dcb",
   "metadata": {},
   "outputs": [
    {
     "name": "stdout",
     "output_type": "stream",
     "text": [
      "On a regional division level, the high quality dataframe returns the below number of rows\n",
      "9\n"
     ]
    },
    {
     "data": {
      "text/html": [
       "<div>\n",
       "<style scoped>\n",
       "    .dataframe tbody tr th:only-of-type {\n",
       "        vertical-align: middle;\n",
       "    }\n",
       "\n",
       "    .dataframe tbody tr th {\n",
       "        vertical-align: top;\n",
       "    }\n",
       "\n",
       "    .dataframe thead th {\n",
       "        text-align: right;\n",
       "    }\n",
       "</style>\n",
       "<table border=\"1\" class=\"dataframe\">\n",
       "  <thead>\n",
       "    <tr style=\"text-align: right;\">\n",
       "      <th></th>\n",
       "      <th>regional_division</th>\n",
       "      <th>population</th>\n",
       "      <th>article_count</th>\n",
       "      <th>articles_per_capita</th>\n",
       "    </tr>\n",
       "  </thead>\n",
       "  <tbody>\n",
       "    <tr>\n",
       "      <th>0</th>\n",
       "      <td>East North Central</td>\n",
       "      <td>47097779.0</td>\n",
       "      <td>717</td>\n",
       "      <td>0.000015</td>\n",
       "    </tr>\n",
       "    <tr>\n",
       "      <th>1</th>\n",
       "      <td>East South Central</td>\n",
       "      <td>19578002.0</td>\n",
       "      <td>316</td>\n",
       "      <td>0.000016</td>\n",
       "    </tr>\n",
       "    <tr>\n",
       "      <th>2</th>\n",
       "      <td>Middle Atlantic</td>\n",
       "      <td>12972008.0</td>\n",
       "      <td>566</td>\n",
       "      <td>0.000044</td>\n",
       "    </tr>\n",
       "    <tr>\n",
       "      <th>3</th>\n",
       "      <td>Mountain</td>\n",
       "      <td>23400976.0</td>\n",
       "      <td>304</td>\n",
       "      <td>0.000013</td>\n",
       "    </tr>\n",
       "    <tr>\n",
       "      <th>4</th>\n",
       "      <td>New England</td>\n",
       "      <td>9014378.0</td>\n",
       "      <td>150</td>\n",
       "      <td>0.000017</td>\n",
       "    </tr>\n",
       "  </tbody>\n",
       "</table>\n",
       "</div>"
      ],
      "text/plain": [
       "    regional_division  population  article_count  articles_per_capita\n",
       "0  East North Central  47097779.0            717             0.000015\n",
       "1  East South Central  19578002.0            316             0.000016\n",
       "2     Middle Atlantic  12972008.0            566             0.000044\n",
       "3            Mountain  23400976.0            304             0.000013\n",
       "4         New England   9014378.0            150             0.000017"
      ]
     },
     "execution_count": 43,
     "metadata": {},
     "output_type": "execute_result"
    }
   ],
   "source": [
    "# Filtering the article based on the artcile_quality attribute\n",
    "# Calculation for article_count and article_per_capita done the same as above i.e., group by regional division\n",
    "\n",
    "division_pop = df_pop_division #Using from step 1\n",
    "\n",
    "hq_division_df = df_consolidated[(df_consolidated['article_quality'] == \n",
    "                                 'FA') | (df_consolidated['article_quality'] == 'GA')]\n",
    "division_count = hq_division_df[['regional_division', 'article_title']].groupby('regional_division').count().reset_index()\n",
    "hq_division_df = division_pop.merge(division_count, on='regional_division')\n",
    "hq_division_df.columns=['regional_division', 'population', 'article_count']\n",
    "hq_division_df['articles_per_capita'] = hq_division_df['article_count'] / (hq_division_df['population'])\n",
    "\n",
    "print('On a regional division level, the high quality dataframe returns the below number of rows')\n",
    "print(len(hq_division_df['regional_division'].unique()))\n",
    "hq_division_df.head()"
   ]
  },
  {
   "cell_type": "markdown",
   "id": "43e88e06",
   "metadata": {},
   "source": [
    "# Step 5: Results\n",
    "This section presents the results of the analysis in the form of data tables. It includes the top 10 and bottom 10 US states based on total articles per capita and high-quality articles per capita. Furthermore, it provides the rank-ordered list of US census divisions by total articles per capita and high-quality articles per capita.\n",
    "\n",
    "The code displays the results as lists of states or census divisions, based on the calculated metrics. Adjustments to the dataset or specific data attributes may be required based on the actual data being used.\n",
    "\n",
    "1. Top 10 US states by coverage: Displays the top 10 US states with the highest total articles per capita in descending order.\n",
    "2. Bottom 10 US states by coverage: Displays the 10 US states with the lowest total articles per capita in ascending order.\n",
    "3. Top 10 US states by high quality: Displays the 10 US states with the highest high-quality articles per capita in descending order.\n",
    "4. Bottom 10 US states by high quality: Displays the 10 US states with the lowest high-quality articles per capita in ascending order.\n",
    "5. Census divisions by total coverage: Displays a rank-ordered list of US census divisions by total articles per capita in descending order.\n",
    "6. Census divisions by high quality coverage: Displays a rank-ordered list of US census divisions by high-quality articles per capita in descending order.\n",
    "\n",
    "\n",
    "\n",
    "\n",
    "### 1. Top 10 US states by coverage: The 10 US states with the highest total articles per capita (in descending order)\n"
   ]
  },
  {
   "cell_type": "code",
   "execution_count": 44,
   "id": "aa925505",
   "metadata": {},
   "outputs": [
    {
     "data": {
      "text/plain": [
       "1          vermont\n",
       "2            maine\n",
       "3             iowa\n",
       "4           alaska\n",
       "5     pennsylvania\n",
       "6         michigan\n",
       "7          wyoming\n",
       "8         arkansas\n",
       "9         missouri\n",
       "10       minnesota\n",
       "Name: state, dtype: object"
      ]
     },
     "execution_count": 44,
     "metadata": {},
     "output_type": "execute_result"
    }
   ],
   "source": [
    "top10_state = total_articles_state.sort_values(by=['articles_per_capita'],\n",
    "                                                    ascending=False).head(10).reset_index()\n",
    "top10_state.index += 1\n",
    "top10_state['state']"
   ]
  },
  {
   "cell_type": "markdown",
   "id": "59412fcb",
   "metadata": {},
   "source": [
    "### 2. Bottom 10 US states by coverage: The 10 US states with the lowest total articles per capita (in ascending order) "
   ]
  },
  {
   "cell_type": "code",
   "execution_count": 45,
   "id": "416ad9b7",
   "metadata": {},
   "outputs": [
    {
     "data": {
      "text/plain": [
       "1         nevada\n",
       "2     california\n",
       "3        arizona\n",
       "4       virginia\n",
       "5        florida\n",
       "6       oklahoma\n",
       "7         kansas\n",
       "8       maryland\n",
       "9      wisconsin\n",
       "10    washington\n",
       "Name: state, dtype: object"
      ]
     },
     "execution_count": 45,
     "metadata": {},
     "output_type": "execute_result"
    }
   ],
   "source": [
    "bottom10_state = total_articles_state.sort_values(by=['articles_per_capita'],\n",
    "                                                    ascending=True).head(10).reset_index()\n",
    "bottom10_state.index += 1\n",
    "bottom10_state['state']"
   ]
  },
  {
   "cell_type": "markdown",
   "id": "858bdcbc",
   "metadata": {},
   "source": [
    "### 3. Top 10 US states by high quality: The 10 US states with the highest high quality articles per capita (in descending order)"
   ]
  },
  {
   "cell_type": "code",
   "execution_count": 46,
   "id": "f5371755",
   "metadata": {},
   "outputs": [
    {
     "data": {
      "text/plain": [
       "1          vermont\n",
       "2          wyoming\n",
       "3          montana\n",
       "4     pennsylvania\n",
       "5         missouri\n",
       "6           alaska\n",
       "7           oregon\n",
       "8             iowa\n",
       "9            maine\n",
       "10       minnesota\n",
       "Name: state, dtype: object"
      ]
     },
     "execution_count": 46,
     "metadata": {},
     "output_type": "execute_result"
    }
   ],
   "source": [
    "top10_hq_state = hq_state_df.sort_values(by=['articles_per_capita'],\n",
    "                                             ascending=False).head(10).reset_index()\n",
    "top10_hq_state.index += 1\n",
    "top10_hq_state['state']"
   ]
  },
  {
   "cell_type": "markdown",
   "id": "c79f1a30",
   "metadata": {},
   "source": [
    "### 4. Bottom 10 US states by high quality: The 10 US states with the lowest high quality articles per capita (in ascending order)"
   ]
  },
  {
   "cell_type": "code",
   "execution_count": 47,
   "id": "03376bc1",
   "metadata": {},
   "outputs": [
    {
     "data": {
      "text/plain": [
       "1          virginia\n",
       "2            nevada\n",
       "3           arizona\n",
       "4        california\n",
       "5           florida\n",
       "6          maryland\n",
       "7            kansas\n",
       "8          oklahoma\n",
       "9     massachusetts\n",
       "10        louisiana\n",
       "Name: state, dtype: object"
      ]
     },
     "execution_count": 47,
     "metadata": {},
     "output_type": "execute_result"
    }
   ],
   "source": [
    "bottom10_hq_state = hq_state_df.sort_values(by=['articles_per_capita'],\n",
    "                                             ascending=True).head(10).reset_index()\n",
    "bottom10_hq_state.index += 1\n",
    "bottom10_hq_state['state']"
   ]
  },
  {
   "cell_type": "markdown",
   "id": "11d0c57f",
   "metadata": {},
   "source": [
    "### 5. Census divisions by total coverage: A rank ordered list of US census divisions (in descending order) by total articles per capita"
   ]
  },
  {
   "cell_type": "code",
   "execution_count": 48,
   "id": "153bca96",
   "metadata": {},
   "outputs": [
    {
     "data": {
      "text/plain": [
       "1       Middle Atlantic\n",
       "2    West North Central\n",
       "3           New England\n",
       "4    East North Central\n",
       "5    East South Central\n",
       "6    West South Central\n",
       "7              Mountain\n",
       "8               Pacific\n",
       "9        South Atlantic\n",
       "Name: regional_division, dtype: object"
      ]
     },
     "execution_count": 48,
     "metadata": {},
     "output_type": "execute_result"
    }
   ],
   "source": [
    "division_coverage = total_articles_division.sort_values(by=['articles_per_capita'],\n",
    "                                                ascending=False).reset_index()\n",
    "division_coverage.index += 1\n",
    "division_coverage['regional_division']"
   ]
  },
  {
   "cell_type": "markdown",
   "id": "5ed3f4b8",
   "metadata": {},
   "source": [
    "### 6. Census divisions by high quality coverage: Rank ordered list of US census divisions (in descending order) by high quality articles per capita"
   ]
  },
  {
   "cell_type": "code",
   "execution_count": 49,
   "id": "e26e5435",
   "metadata": {},
   "outputs": [
    {
     "data": {
      "text/plain": [
       "1       Middle Atlantic\n",
       "2    West North Central\n",
       "3           New England\n",
       "4    East South Central\n",
       "5    East North Central\n",
       "6    West South Central\n",
       "7              Mountain\n",
       "8               Pacific\n",
       "9        South Atlantic\n",
       "Name: regional_division, dtype: object"
      ]
     },
     "execution_count": 49,
     "metadata": {},
     "output_type": "execute_result"
    }
   ],
   "source": [
    "division_hq_coverage = hq_division_df.sort_values(by=['articles_per_capita'],\n",
    "                                           ascending=False).reset_index()\n",
    "division_hq_coverage.index += 1\n",
    "division_hq_coverage['regional_division']"
   ]
  },
  {
   "cell_type": "code",
   "execution_count": null,
   "id": "32ba51c6",
   "metadata": {},
   "outputs": [],
   "source": []
  },
  {
   "cell_type": "code",
   "execution_count": null,
   "id": "774987bb",
   "metadata": {},
   "outputs": [],
   "source": []
  },
  {
   "cell_type": "code",
   "execution_count": null,
   "id": "9abe5ee4",
   "metadata": {},
   "outputs": [],
   "source": []
  }
 ],
 "metadata": {
  "kernelspec": {
   "display_name": "Python 3 (ipykernel)",
   "language": "python",
   "name": "python3"
  },
  "language_info": {
   "codemirror_mode": {
    "name": "ipython",
    "version": 3
   },
   "file_extension": ".py",
   "mimetype": "text/x-python",
   "name": "python",
   "nbconvert_exporter": "python",
   "pygments_lexer": "ipython3",
   "version": "3.9.0rc2"
  }
 },
 "nbformat": 4,
 "nbformat_minor": 5
}
