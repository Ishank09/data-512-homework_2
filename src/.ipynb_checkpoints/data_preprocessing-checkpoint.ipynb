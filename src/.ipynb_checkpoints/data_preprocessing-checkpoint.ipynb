{
 "cells": [
  {
   "cell_type": "code",
   "execution_count": null,
   "id": "8de62d9a",
   "metadata": {},
   "outputs": [],
   "source": [
    "# Importing necessary libraries\n",
    "import pandas as pd\n",
    "import re\n"
   ]
  },
  {
   "cell_type": "markdown",
   "id": "55bb3eb4",
   "metadata": {},
   "source": [
    "## Reading the ORES Predictions CSV File into a Pandas DataFrame\n",
    "This segment reads a CSV file, ores_predictions.csv, into a Pandas DataFrame for further processing and analysis.\n"
   ]
  },
  {
   "cell_type": "code",
   "execution_count": null,
   "id": "896fde09",
   "metadata": {},
   "outputs": [],
   "source": [
    "\n",
    "# Reading the CSV file\n",
    "df = pd.read_csv('../data/ores_predictions.csv')\n"
   ]
  },
  {
   "cell_type": "markdown",
   "id": "5021b149",
   "metadata": {},
   "source": [
    "## Defining a List of US States for Data Cleaning\n",
    "This part defines a list of US states, for use in data cleaning and filtering operations. The list includes the names of all 50 states in the United States."
   ]
  },
  {
   "cell_type": "code",
   "execution_count": null,
   "id": "a218a452",
   "metadata": {},
   "outputs": [],
   "source": [
    "\n",
    "# List of US states\n",
    "us_states = [\n",
    "    \"Alabama\", \"Alaska\", \"Arizona\", \"Arkansas\", \"California\", \"Colorado\", \"Connecticut\",\n",
    "    \"Delaware\", \"Florida\", \"Georgia\", \"Hawaii\", \"Idaho\", \"Illinois\", \"Indiana\", \"Iowa\",\n",
    "    \"Kansas\", \"Kentucky\", \"Louisiana\", \"Maine\", \"Maryland\", \"Massachusetts\", \"Michigan\",\n",
    "    \"Minnesota\", \"Mississippi\", \"Missouri\", \"Montana\", \"Nebraska\", \"Nevada\", \"New Hampshire\",\n",
    "    \"New Jersey\", \"New Mexico\", \"New York\", \"North Carolina\", \"North Dakota\", \"Ohio\", \"Oklahoma\",\n",
    "    \"Oregon\", \"Pennsylvania\", \"Rhode Island\", \"South Carolina\", \"South Dakota\", \"Tennessee\",\n",
    "    \"Texas\", \"Utah\", \"Vermont\", \"Virginia\", \"Washington\", \"West Virginia\", \"Wisconsin\", \"Wyoming\"\n",
    "]\n",
    "\n",
    "\n",
    "\n"
   ]
  },
  {
   "cell_type": "markdown",
   "id": "acf59b39",
   "metadata": {},
   "source": [
    "## Creating a Function to Clean Titles and Identify US States\n",
    "This section presents a Python function named clean_title. The function takes a title as input, cleans the title by removing leading and trailing whitespaces, and checks for the presence of a US state. It returns the cleaned title if a US state is found; otherwise, it returns None."
   ]
  },
  {
   "cell_type": "code",
   "execution_count": null,
   "id": "f9a5aaba",
   "metadata": {},
   "outputs": [],
   "source": [
    "# Function to clean the title and check for the presence of a US state\n",
    "def clean_title(title):\n",
    "    title = title.strip()\n",
    "    parts = re.split(r',\\s*', title)\n",
    "    if parts[-1].title() in us_states:\n",
    "        return \", \".join(parts[-2:]).strip()\n",
    "    else:\n",
    "        return None"
   ]
  },
  {
   "cell_type": "markdown",
   "id": "fbf42cdd",
   "metadata": {},
   "source": [
    "## Applying Title Cleaning Function to DataFrame Columns\n",
    "This block applies the clean_title function to the 'title' column of the DataFrame. It cleans the titles and updates the 'title' column with the cleaned versions, removing any irrelevant information and retaining only the city and state names."
   ]
  },
  {
   "cell_type": "code",
   "execution_count": null,
   "id": "1ecb8d4e",
   "metadata": {},
   "outputs": [],
   "source": [
    "# Applying the cleaning function to the 'title' column\n",
    "df['title'] = df['title'].apply(clean_title)"
   ]
  },
  {
   "cell_type": "markdown",
   "id": "9192bd6a",
   "metadata": {},
   "source": [
    "## Filtering Out Non-US State Entries from the DataFrame\n",
    "This section filters out rows from the DataFrame where the 'title' column does not contain a US state. It drops rows with None values in the 'title' column, presumably removing entries that do not correspond to cities in the United States."
   ]
  },
  {
   "cell_type": "code",
   "execution_count": null,
   "id": "45229e36",
   "metadata": {},
   "outputs": [],
   "source": [
    "# Filtering out rows that do not contain a US state\n",
    "df = df.dropna(subset=['title'])"
   ]
  },
  {
   "cell_type": "markdown",
   "id": "fdeb9b93",
   "metadata": {},
   "source": [
    "## Saving Cleaned Data to a New CSV File\n",
    "This part saves the cleaned DataFrame, which now contains only city and state information, to a new CSV file named 'cleaned_data.csv'. The index column is excluded from the saved data."
   ]
  },
  {
   "cell_type": "code",
   "execution_count": null,
   "id": "cc8d2ba6",
   "metadata": {},
   "outputs": [],
   "source": [
    "# Saving the cleaned data to a new CSV file\n",
    "df.to_csv('../data/cleaned_data.csv', index=False)\n"
   ]
  }
 ],
 "metadata": {
  "kernelspec": {
   "display_name": "Python 3 (ipykernel)",
   "language": "python",
   "name": "python3"
  },
  "language_info": {
   "codemirror_mode": {
    "name": "ipython",
    "version": 3
   },
   "file_extension": ".py",
   "mimetype": "text/x-python",
   "name": "python",
   "nbconvert_exporter": "python",
   "pygments_lexer": "ipython3",
   "version": "3.9.0rc2"
  }
 },
 "nbformat": 4,
 "nbformat_minor": 5
}
